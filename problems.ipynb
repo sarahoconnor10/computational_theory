{
 "cells": [
  {
   "cell_type": "code",
   "execution_count": null,
   "id": "4d9ed3ff",
   "metadata": {},
   "outputs": [],
   "source": [
    "def Parity(x, y, z):\n",
    "    return x ^ y ^ z"
   ]
  }
 ],
 "metadata": {
  "language_info": {
   "name": "python"
  }
 },
 "nbformat": 4,
 "nbformat_minor": 5
}
